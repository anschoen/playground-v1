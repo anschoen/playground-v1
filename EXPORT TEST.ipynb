{
    "nbformat": 4, 
    "metadata": {
        "language_info": {
            "pygments_lexer": "ipython2", 
            "name": "python", 
            "mimetype": "text/x-python", 
            "codemirror_mode": {
                "version": 2, 
                "name": "ipython"
            }, 
            "version": "2.7.11", 
            "file_extension": ".py", 
            "nbconvert_exporter": "python"
        }, 
        "kernelspec": {
            "language": "python", 
            "name": "python2-spark21", 
            "display_name": "Python 2 with Spark 2.1"
        }
    }, 
    "cells": [
        {
            "source": "import numpy as np", 
            "metadata": {
                "collapsed": true
            }, 
            "execution_count": 1, 
            "outputs": [], 
            "cell_type": "code"
        }, 
        {
            "source": "np.random.normal(10,1,(2,2))", 
            "metadata": {}, 
            "execution_count": 2, 
            "outputs": [
                {
                    "execution_count": 2, 
                    "data": {
                        "text/plain": "array([[  9.61857664,  10.4625716 ],\n       [ 11.09190617,   9.79347658]])"
                    }, 
                    "metadata": {}, 
                    "output_type": "execute_result"
                }
            ], 
            "cell_type": "code"
        }, 
        {
            "source": "\"Updated\"", 
            "metadata": {}, 
            "execution_count": 3, 
            "outputs": [
                {
                    "execution_count": 3, 
                    "data": {
                        "text/plain": "'Updated'"
                    }, 
                    "metadata": {}, 
                    "output_type": "execute_result"
                }
            ], 
            "cell_type": "code"
        }, 
        {
            "source": "", 
            "metadata": {
                "collapsed": true
            }, 
            "execution_count": null, 
            "outputs": [], 
            "cell_type": "code"
        }
    ], 
    "nbformat_minor": 1
}